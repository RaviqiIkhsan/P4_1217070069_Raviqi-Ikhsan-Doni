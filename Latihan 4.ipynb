{
 "cells": [
  {
   "cell_type": "code",
   "execution_count": 2,
   "id": "2e5c3abb",
   "metadata": {},
   "outputs": [
    {
     "ename": "ModuleNotFoundError",
     "evalue": "No module named 'cv2'",
     "output_type": "error",
     "traceback": [
      "\u001b[1;31m---------------------------------------------------------------------------\u001b[0m",
      "\u001b[1;31mModuleNotFoundError\u001b[0m                       Traceback (most recent call last)",
      "Cell \u001b[1;32mIn[2], line 4\u001b[0m\n\u001b[0;32m      1\u001b[0m \u001b[38;5;66;03m#Nim : 1217070069\u001b[39;00m\n\u001b[0;32m      2\u001b[0m \u001b[38;5;66;03m#Nama : Raviqi Ikhsan Doni\u001b[39;00m\n\u001b[1;32m----> 4\u001b[0m \u001b[38;5;28;01mimport\u001b[39;00m \u001b[38;5;21;01mcv2\u001b[39;00m\n\u001b[0;32m      5\u001b[0m \u001b[38;5;28;01mimport\u001b[39;00m \u001b[38;5;21;01mnumpy\u001b[39;00m \u001b[38;5;28;01mas\u001b[39;00m \u001b[38;5;21;01mnp\u001b[39;00m\n\u001b[0;32m      6\u001b[0m image \u001b[38;5;241m=\u001b[39m cv2\u001b[38;5;241m.\u001b[39mimread(\u001b[38;5;124m\"\u001b[39m\u001b[38;5;124mKeyboard.jpg\u001b[39m\u001b[38;5;124m\"\u001b[39m)\n",
      "\u001b[1;31mModuleNotFoundError\u001b[0m: No module named 'cv2'"
     ]
    }
   ],
   "source": [
    "#Nim : 1217070069\n",
    "#Nama : Raviqi Ikhsan Doni\n",
    "\n",
    "import cv2\n",
    "import numpy as np\n",
    "image = cv2.imread(\"Keyboard.jpg\")\n",
    "b,g,r = cv2.split(image)\n",
    "\n",
    "#buat matriks seukuran dengan citra\n",
    "matriks0 = np.zeros(image.shape[:2],image.dtype)\n",
    "m=matriks0\n",
    "\n",
    "#merge matriks dengan matriks citra channel merah\n",
    "merah = cv2.merge([m,m,r])\n",
    "cv2.imshow('citra red channel', merah)\n",
    "cv2.waitKey(0)"
   ]
  },
  {
   "cell_type": "code",
   "execution_count": 3,
   "id": "1d675618",
   "metadata": {},
   "outputs": [
    {
     "ename": "ModuleNotFoundError",
     "evalue": "No module named 'cv2'",
     "output_type": "error",
     "traceback": [
      "\u001b[1;31m---------------------------------------------------------------------------\u001b[0m",
      "\u001b[1;31mModuleNotFoundError\u001b[0m                       Traceback (most recent call last)",
      "Cell \u001b[1;32mIn[3], line 4\u001b[0m\n\u001b[0;32m      1\u001b[0m \u001b[38;5;66;03m#Nim : 1217070069\u001b[39;00m\n\u001b[0;32m      2\u001b[0m \u001b[38;5;66;03m#Nama : Raviqi Ikhsan Doni\u001b[39;00m\n\u001b[1;32m----> 4\u001b[0m \u001b[38;5;28;01mimport\u001b[39;00m \u001b[38;5;21;01mcv2\u001b[39;00m\n\u001b[0;32m      5\u001b[0m \u001b[38;5;28;01mimport\u001b[39;00m \u001b[38;5;21;01mnumpy\u001b[39;00m \u001b[38;5;28;01mas\u001b[39;00m \u001b[38;5;21;01mnp\u001b[39;00m\n\u001b[0;32m      7\u001b[0m image \u001b[38;5;241m=\u001b[39m cv2\u001b[38;5;241m.\u001b[39mimread(\u001b[38;5;124m'\u001b[39m\u001b[38;5;124mKeyboard.jpg\u001b[39m\u001b[38;5;124m'\u001b[39m)\n",
      "\u001b[1;31mModuleNotFoundError\u001b[0m: No module named 'cv2'"
     ]
    }
   ],
   "source": [
    "#Nim : 1217070069\n",
    "#Nama : Raviqi Ikhsan Doni\n",
    "\n",
    "import cv2\n",
    "import numpy as np\n",
    "\n",
    "image = cv2.imread('Keyboard.jpg')\n",
    "\n",
    "#Maksimum pixel\n",
    "max_pixel_value=255\n",
    "#rumus citra negatif 255-f(x,y)\n",
    "inverted_image=max_pixel_value-image\n",
    "\n",
    "cv2.imshow('Original Image',image)\n",
    "cv2.imshow('Citra Negatif',inverted_image)\n",
    "cv2.waitKey(0)\n",
    "cv2.destroyAllWindows()"
   ]
  },
  {
   "cell_type": "code",
   "execution_count": 2,
   "id": "ecf49588",
   "metadata": {},
   "outputs": [
    {
     "ename": "ModuleNotFoundError",
     "evalue": "No module named 'cv2'",
     "output_type": "error",
     "traceback": [
      "\u001b[1;31m---------------------------------------------------------------------------\u001b[0m",
      "\u001b[1;31mModuleNotFoundError\u001b[0m                       Traceback (most recent call last)",
      "Cell \u001b[1;32mIn[2], line 4\u001b[0m\n\u001b[0;32m      1\u001b[0m \u001b[38;5;66;03m#Nim : 1217070069\u001b[39;00m\n\u001b[0;32m      2\u001b[0m \u001b[38;5;66;03m#Nama : Raviqi Ikhsan Doni\u001b[39;00m\n\u001b[1;32m----> 4\u001b[0m \u001b[38;5;28;01mimport\u001b[39;00m \u001b[38;5;21;01mcv2\u001b[39;00m\n\u001b[0;32m      5\u001b[0m \u001b[38;5;28;01mimport\u001b[39;00m \u001b[38;5;21;01mnumpy\u001b[39;00m \u001b[38;5;28;01mas\u001b[39;00m \u001b[38;5;21;01mnp\u001b[39;00m\n\u001b[0;32m      6\u001b[0m \u001b[38;5;28;01mimport\u001b[39;00m \u001b[38;5;21;01mmatplotlib\u001b[39;00m\u001b[38;5;21;01m.\u001b[39;00m\u001b[38;5;21;01mpyplot\u001b[39;00m \u001b[38;5;28;01mas\u001b[39;00m \u001b[38;5;21;01mplt\u001b[39;00m\n",
      "\u001b[1;31mModuleNotFoundError\u001b[0m: No module named 'cv2'"
     ]
    }
   ],
   "source": [
    "#Nim : 1217070069\n",
    "#Nama : Raviqi Ikhsan Doni\n",
    "\n",
    "import cv2\n",
    "import numpy as np\n",
    "import matplotlib.pyplot as plt\n",
    "\n",
    "img=cv2.imread('Keyboard.jpg')\n",
    "img_height=img.shape[0]\n",
    "img_width=img.shape[1]\n",
    "img_channel=img.shape[2]\n",
    "img_type=img.dtype\n",
    "\n",
    "#Melakukan penambahan brightness dengan nilai yang menjadi parameter\n",
    "img_brightness=np.zeros(img.shape, dtype=np.uint8)\n",
    "def brighter(nilai):\n",
    "    for y in range (0,img_height):\n",
    "        for x in range(0,img_width):\n",
    "            red=img[y][x][0]\n",
    "            green=img[y][x][1]\n",
    "            blue=img[y][x][2]\n",
    "            gray=(int(red)+int(green)+int(blue))/3\n",
    "            gray+=nilai\n",
    "            if gray>255:\n",
    "                gray=255\n",
    "            if gray<0:\n",
    "                gray=0\n",
    "            img_brightness[y][x]=(gray,gray,gray)\n",
    "\n",
    "brighter(-100)\n",
    "plt.imshow(img_brightness)\n",
    "plt.title(\"Brightness -100\")\n",
    "plt.show()\n",
    "\n",
    "brighter(100)\n",
    "plt.imshow(img_brightness)\n",
    "plt.title(\"Brightness 100\")\n",
    "plt.show()"
   ]
  },
  {
   "cell_type": "code",
   "execution_count": 3,
   "id": "e5764e01",
   "metadata": {},
   "outputs": [
    {
     "ename": "ModuleNotFoundError",
     "evalue": "No module named 'cv2'",
     "output_type": "error",
     "traceback": [
      "\u001b[1;31m---------------------------------------------------------------------------\u001b[0m",
      "\u001b[1;31mModuleNotFoundError\u001b[0m                       Traceback (most recent call last)",
      "Cell \u001b[1;32mIn[3], line 4\u001b[0m\n\u001b[0;32m      1\u001b[0m \u001b[38;5;66;03m#Nim : 1217070069\u001b[39;00m\n\u001b[0;32m      2\u001b[0m \u001b[38;5;66;03m#Nama : Raviqi Ikhsan Doni\u001b[39;00m\n\u001b[1;32m----> 4\u001b[0m \u001b[38;5;28;01mimport\u001b[39;00m \u001b[38;5;21;01mcv2\u001b[39;00m\n\u001b[0;32m      5\u001b[0m \u001b[38;5;28;01mimport\u001b[39;00m \u001b[38;5;21;01mnumpy\u001b[39;00m \u001b[38;5;28;01mas\u001b[39;00m \u001b[38;5;21;01mnp\u001b[39;00m\n\u001b[0;32m      7\u001b[0m image\u001b[38;5;241m=\u001b[39mcv2\u001b[38;5;241m.\u001b[39mimread(\u001b[38;5;124m\"\u001b[39m\u001b[38;5;124mKeyboard.jpg\u001b[39m\u001b[38;5;124m\"\u001b[39m)\n",
      "\u001b[1;31mModuleNotFoundError\u001b[0m: No module named 'cv2'"
     ]
    }
   ],
   "source": [
    "#Nim : 1217070069\n",
    "#Nama : Raviqi Ikhsan Doni\n",
    "\n",
    "import cv2\n",
    "import numpy as np\n",
    "\n",
    "image=cv2.imread(\"Keyboard.jpg\")\n",
    "gray=cv2.cvtColor(image, cv2.COLOR_BGR2GRAY)\n",
    "MatriksSatu=np.ones(image.shape[:2],image.dtype)*100\n",
    "\n",
    "#operasi penjumlahan\n",
    "citraPenjumlahan=cv2.add(gray,MatriksSatu)\n",
    "cv2.imshow('Citra',gray)\n",
    "cv2.imshow('Citra Penjumlahan', citraPenjumlahan)\n",
    "cv2.waitKey(0)"
   ]
  },
  {
   "cell_type": "code",
   "execution_count": 4,
   "id": "a547273d",
   "metadata": {},
   "outputs": [
    {
     "ename": "ModuleNotFoundError",
     "evalue": "No module named 'cv2'",
     "output_type": "error",
     "traceback": [
      "\u001b[1;31m---------------------------------------------------------------------------\u001b[0m",
      "\u001b[1;31mModuleNotFoundError\u001b[0m                       Traceback (most recent call last)",
      "Cell \u001b[1;32mIn[4], line 4\u001b[0m\n\u001b[0;32m      1\u001b[0m \u001b[38;5;66;03m#Nim : 1217070069\u001b[39;00m\n\u001b[0;32m      2\u001b[0m \u001b[38;5;66;03m#Nama : Raviqi Ikhsan Doni\u001b[39;00m\n\u001b[1;32m----> 4\u001b[0m \u001b[38;5;28;01mimport\u001b[39;00m \u001b[38;5;21;01mcv2\u001b[39;00m\n\u001b[0;32m      6\u001b[0m \u001b[38;5;66;03m# Membaca 2 gambar\u001b[39;00m\n\u001b[0;32m      7\u001b[0m gambar1 \u001b[38;5;241m=\u001b[39m cv2\u001b[38;5;241m.\u001b[39mimread(\u001b[38;5;124m'\u001b[39m\u001b[38;5;124mKeyboard.jpg\u001b[39m\u001b[38;5;124m'\u001b[39m)\n",
      "\u001b[1;31mModuleNotFoundError\u001b[0m: No module named 'cv2'"
     ]
    }
   ],
   "source": [
    "#Nim : 1217070069\n",
    "#Nama : Raviqi Ikhsan Doni\n",
    "\n",
    "import cv2\n",
    "\n",
    "# Membaca 2 gambar\n",
    "gambar1 = cv2.imread('Kopi.jpg')\n",
    "gambar2 = cv2.imread('Jalan.jpg')\n",
    "\n",
    "tinggi, lebar, _ = gambar1.shape\n",
    "gambar1 = cv2.resize(gambar1, (lebar, tinggi))\n",
    "\n",
    "# Menggunakan tinggi dan lebar yang sama untuk gambar kedua\n",
    "gambar2 = cv2.resize(gambar2, (lebar, tinggi))\n",
    "\n",
    "hasil_penjumlahan = gambar1.copy()\n",
    "\n",
    "for y in range(tinggi):\n",
    "    for x in range(lebar):\n",
    "        for c in range(3):\n",
    "            nilai_baru = gambar1[y, x, c] + gambar2[y, x, c]\n",
    "            hasil_penjumlahan[y, x, c] = min(nilai_baru, 255)\n",
    "\n",
    "cv2.imshow('Hasil Penjumlahan', hasil_penjumlahan)\n",
    "cv2.waitKey(0)\n",
    "cv2.destroyAllWindows()\n",
    "\n",
    "cv2.imwrite('Hasil_penjumlahan_manual_rumus.jpg', hasil_penjumlahan)\n"
   ]
  },
  {
   "cell_type": "code",
   "execution_count": 6,
   "id": "368ebf1a",
   "metadata": {},
   "outputs": [
    {
     "ename": "ModuleNotFoundError",
     "evalue": "No module named 'cv2'",
     "output_type": "error",
     "traceback": [
      "\u001b[1;31m---------------------------------------------------------------------------\u001b[0m",
      "\u001b[1;31mModuleNotFoundError\u001b[0m                       Traceback (most recent call last)",
      "Cell \u001b[1;32mIn[6], line 4\u001b[0m\n\u001b[0;32m      1\u001b[0m \u001b[38;5;66;03m#Nim : 1217070069\u001b[39;00m\n\u001b[0;32m      2\u001b[0m \u001b[38;5;66;03m#Nama : Raviqi Ikhsan Doni\u001b[39;00m\n\u001b[1;32m----> 4\u001b[0m \u001b[38;5;28;01mimport\u001b[39;00m \u001b[38;5;21;01mcv2\u001b[39;00m\n\u001b[0;32m      5\u001b[0m \u001b[38;5;28;01mimport\u001b[39;00m \u001b[38;5;21;01mnumpy\u001b[39;00m \u001b[38;5;28;01mas\u001b[39;00m \u001b[38;5;21;01mnp\u001b[39;00m\n\u001b[0;32m      7\u001b[0m persegi \u001b[38;5;241m=\u001b[39m np\u001b[38;5;241m.\u001b[39mzeros((\u001b[38;5;241m400\u001b[39m, \u001b[38;5;241m400\u001b[39m), dtype\u001b[38;5;241m=\u001b[39m\u001b[38;5;124m\"\u001b[39m\u001b[38;5;124muint8\u001b[39m\u001b[38;5;124m\"\u001b[39m)\n",
      "\u001b[1;31mModuleNotFoundError\u001b[0m: No module named 'cv2'"
     ]
    }
   ],
   "source": [
    "#Nim : 1217070069\n",
    "#Nama : Raviqi Ikhsan Doni\n",
    "\n",
    "import cv2\n",
    "import numpy as np\n",
    "\n",
    "persegi = np.zeros((400, 400), dtype=\"uint8\")\n",
    "cv2.rectangle(persegi, (60, 60), (340, 340), 255, -1)\n",
    "\n",
    "lingkaran = np.zeros((400, 400), dtype=\"uint8\")\n",
    "cv2.circle(lingkaran, (200, 200), 250, 255, -1)\n",
    "\n",
    "operasiAND = cv2.bitwise_and(persegi, lingkaran)\n",
    "cv2.imshow(\"Persegi\", persegi)\n",
    "cv2.imshow(\"Lingkaran\", lingkaran)\n",
    "cv2.imshow(\"Operasi AND\", operasiAND)\n",
    "cv2.waitKey(0)\n",
    "cv2.destroyAllWindows()\n"
   ]
  },
  {
   "cell_type": "code",
   "execution_count": 7,
   "id": "6fd4e7e5",
   "metadata": {},
   "outputs": [
    {
     "ename": "ModuleNotFoundError",
     "evalue": "No module named 'cv2'",
     "output_type": "error",
     "traceback": [
      "\u001b[1;31m---------------------------------------------------------------------------\u001b[0m",
      "\u001b[1;31mModuleNotFoundError\u001b[0m                       Traceback (most recent call last)",
      "Cell \u001b[1;32mIn[7], line 4\u001b[0m\n\u001b[0;32m      1\u001b[0m \u001b[38;5;66;03m#Nim : 1217070069\u001b[39;00m\n\u001b[0;32m      2\u001b[0m \u001b[38;5;66;03m#Nama : Raviqi Ikhsan Doni\u001b[39;00m\n\u001b[1;32m----> 4\u001b[0m \u001b[38;5;28;01mimport\u001b[39;00m \u001b[38;5;21;01mcv2\u001b[39;00m\n\u001b[0;32m      5\u001b[0m \u001b[38;5;28;01mimport\u001b[39;00m \u001b[38;5;21;01mnumpy\u001b[39;00m \u001b[38;5;28;01mas\u001b[39;00m \u001b[38;5;21;01mnp\u001b[39;00m\n\u001b[0;32m      7\u001b[0m persegi \u001b[38;5;241m=\u001b[39m np\u001b[38;5;241m.\u001b[39mzeros((\u001b[38;5;241m400\u001b[39m, \u001b[38;5;241m400\u001b[39m), dtype\u001b[38;5;241m=\u001b[39m\u001b[38;5;124m\"\u001b[39m\u001b[38;5;124muint8\u001b[39m\u001b[38;5;124m\"\u001b[39m)\n",
      "\u001b[1;31mModuleNotFoundError\u001b[0m: No module named 'cv2'"
     ]
    }
   ],
   "source": [
    "#Nim : 1217070069\n",
    "#Nama : Raviqi Ikhsan Doni\n",
    "\n",
    "import cv2\n",
    "import numpy as np\n",
    "\n",
    "persegi = np.zeros((400, 400), dtype=\"uint8\")\n",
    "cv2.rectangle(persegi, (60, 60), (340, 340), 255, -1)\n",
    "\n",
    "lingkaran = np.zeros((400, 400), dtype=\"uint8\")\n",
    "cv2.circle(lingkaran, (200, 200), 250, 255, -1)\n",
    "\n",
    "operasiOR = cv2.bitwise_or(persegi, lingkaran)\n",
    "cv2.imshow(\"Persegi\", persegi)\n",
    "cv2.imshow(\"Lingkaran\", lingkaran)\n",
    "cv2.imshow(\"Operasi OR\", operasiOR)\n",
    "cv2.waitKey(0)\n",
    "cv2.destroyAllWindows()"
   ]
  },
  {
   "cell_type": "code",
   "execution_count": 8,
   "id": "18a7133e",
   "metadata": {},
   "outputs": [
    {
     "ename": "ModuleNotFoundError",
     "evalue": "No module named 'cv2'",
     "output_type": "error",
     "traceback": [
      "\u001b[1;31m---------------------------------------------------------------------------\u001b[0m",
      "\u001b[1;31mModuleNotFoundError\u001b[0m                       Traceback (most recent call last)",
      "Cell \u001b[1;32mIn[8], line 4\u001b[0m\n\u001b[0;32m      1\u001b[0m \u001b[38;5;66;03m#Nim : 1217070069\u001b[39;00m\n\u001b[0;32m      2\u001b[0m \u001b[38;5;66;03m#Nama : Raviqi Ikhsan Doni\u001b[39;00m\n\u001b[1;32m----> 4\u001b[0m \u001b[38;5;28;01mimport\u001b[39;00m \u001b[38;5;21;01mcv2\u001b[39;00m\n\u001b[0;32m      5\u001b[0m \u001b[38;5;28;01mimport\u001b[39;00m \u001b[38;5;21;01mnumpy\u001b[39;00m \u001b[38;5;28;01mas\u001b[39;00m \u001b[38;5;21;01mnp\u001b[39;00m\n\u001b[0;32m      7\u001b[0m persegi \u001b[38;5;241m=\u001b[39m np\u001b[38;5;241m.\u001b[39mzeros((\u001b[38;5;241m400\u001b[39m, \u001b[38;5;241m400\u001b[39m), dtype\u001b[38;5;241m=\u001b[39m\u001b[38;5;124m\"\u001b[39m\u001b[38;5;124muint8\u001b[39m\u001b[38;5;124m\"\u001b[39m)\n",
      "\u001b[1;31mModuleNotFoundError\u001b[0m: No module named 'cv2'"
     ]
    }
   ],
   "source": [
    "#Nim : 1217070069\n",
    "#Nama : Raviqi Ikhsan Doni\n",
    "\n",
    "import cv2\n",
    "import numpy as np\n",
    "\n",
    "persegi = np.zeros((400, 400), dtype=\"uint8\")\n",
    "cv2.rectangle(persegi, (60, 60), (340, 340), 255, -1)\n",
    "\n",
    "lingkaran = np.zeros((400, 400), dtype=\"uint8\")\n",
    "cv2.circle(lingkaran, (200, 200), 250, 255, -1)\n",
    "\n",
    "operasiXOR = cv2.bitwise_xor(persegi, lingkaran)\n",
    "cv2.imshow(\"Persegi\", persegi)\n",
    "cv2.imshow(\"Lingkaran\", lingkaran)\n",
    "cv2.imshow(\"Operasi XOR\", operasiXOR)\n",
    "cv2.waitKey(0)\n",
    "cv2.destroyAllWindows()"
   ]
  },
  {
   "cell_type": "code",
   "execution_count": 9,
   "id": "c6bc2650",
   "metadata": {},
   "outputs": [
    {
     "ename": "ModuleNotFoundError",
     "evalue": "No module named 'cv2'",
     "output_type": "error",
     "traceback": [
      "\u001b[1;31m---------------------------------------------------------------------------\u001b[0m",
      "\u001b[1;31mModuleNotFoundError\u001b[0m                       Traceback (most recent call last)",
      "Cell \u001b[1;32mIn[9], line 4\u001b[0m\n\u001b[0;32m      1\u001b[0m \u001b[38;5;66;03m#Nim : 1217070069\u001b[39;00m\n\u001b[0;32m      2\u001b[0m \u001b[38;5;66;03m#Nama : Raviqi Ikhsan Doni\u001b[39;00m\n\u001b[1;32m----> 4\u001b[0m \u001b[38;5;28;01mimport\u001b[39;00m \u001b[38;5;21;01mcv2\u001b[39;00m\n\u001b[0;32m      5\u001b[0m \u001b[38;5;28;01mimport\u001b[39;00m \u001b[38;5;21;01mnumpy\u001b[39;00m \u001b[38;5;28;01mas\u001b[39;00m \u001b[38;5;21;01mnp\u001b[39;00m\n\u001b[0;32m      7\u001b[0m persegi \u001b[38;5;241m=\u001b[39m np\u001b[38;5;241m.\u001b[39mzeros((\u001b[38;5;241m400\u001b[39m, \u001b[38;5;241m400\u001b[39m), dtype\u001b[38;5;241m=\u001b[39m\u001b[38;5;124m\"\u001b[39m\u001b[38;5;124muint8\u001b[39m\u001b[38;5;124m\"\u001b[39m)\n",
      "\u001b[1;31mModuleNotFoundError\u001b[0m: No module named 'cv2'"
     ]
    }
   ],
   "source": [
    "#Nim : 1217070069\n",
    "#Nama : Raviqi Ikhsan Doni\n",
    "\n",
    "import cv2\n",
    "import numpy as np\n",
    "\n",
    "persegi = np.zeros((400, 400), dtype=\"uint8\")\n",
    "cv2.rectangle(persegi, (60, 60), (340, 340), 255, -1)\n",
    "\n",
    "lingkaran = np.zeros((400, 400), dtype=\"uint8\")\n",
    "cv2.circle(lingkaran, (200, 200), 250, 255, -1)\n",
    "\n",
    "operasiNOT = cv2.bitwise_not(persegi, lingkaran)\n",
    "cv2.imshow(\"Persegi\", persegi)\n",
    "cv2.imshow(\"Lingkaran\", lingkaran)\n",
    "cv2.imshow(\"Operasi NOT\", operasiNOT)\n",
    "cv2.waitKey(0)\n",
    "cv2.destroyAllWindows()"
   ]
  },
  {
   "cell_type": "code",
   "execution_count": 10,
   "id": "691094e5",
   "metadata": {},
   "outputs": [
    {
     "ename": "ModuleNotFoundError",
     "evalue": "No module named 'cv2'",
     "output_type": "error",
     "traceback": [
      "\u001b[1;31m---------------------------------------------------------------------------\u001b[0m",
      "\u001b[1;31mModuleNotFoundError\u001b[0m                       Traceback (most recent call last)",
      "Cell \u001b[1;32mIn[10], line 4\u001b[0m\n\u001b[0;32m      1\u001b[0m \u001b[38;5;66;03m#Nim : 1217070069\u001b[39;00m\n\u001b[0;32m      2\u001b[0m \u001b[38;5;66;03m#Nama : Raviqi Ikhsan Doni\u001b[39;00m\n\u001b[1;32m----> 4\u001b[0m \u001b[38;5;28;01mimport\u001b[39;00m \u001b[38;5;21;01mcv2\u001b[39;00m\n\u001b[0;32m      5\u001b[0m \u001b[38;5;28;01mimport\u001b[39;00m \u001b[38;5;21;01mnumpy\u001b[39;00m \u001b[38;5;28;01mas\u001b[39;00m \u001b[38;5;21;01mnp\u001b[39;00m\n\u001b[0;32m      6\u001b[0m image\u001b[38;5;241m=\u001b[39mcv2\u001b[38;5;241m.\u001b[39mimread(\u001b[38;5;124m'\u001b[39m\u001b[38;5;124mKeyboard.jpg\u001b[39m\u001b[38;5;124m'\u001b[39m)\n",
      "\u001b[1;31mModuleNotFoundError\u001b[0m: No module named 'cv2'"
     ]
    }
   ],
   "source": [
    "#Nim : 1217070069\n",
    "#Nama : Raviqi Ikhsan Doni\n",
    "\n",
    "import cv2\n",
    "import numpy as np\n",
    "image=cv2.imread('Keyboard.jpg')\n",
    "height, width= image.shape[:2]\n",
    "\n",
    "M=np.float32([[1,0,100],[0,1,50]])\n",
    "image_translation=cv2.warpAffine(image, M,(height,width))\n",
    "cv2.imshow('Citra', image)\n",
    "cv2.imshow('Citra Hasil Translasi',image_translation)\n",
    "cv2.waitKey(0)"
   ]
  },
  {
   "cell_type": "code",
   "execution_count": 13,
   "id": "8ab17af5",
   "metadata": {},
   "outputs": [
    {
     "ename": "ModuleNotFoundError",
     "evalue": "No module named 'cv2'",
     "output_type": "error",
     "traceback": [
      "\u001b[1;31m---------------------------------------------------------------------------\u001b[0m",
      "\u001b[1;31mModuleNotFoundError\u001b[0m                       Traceback (most recent call last)",
      "Cell \u001b[1;32mIn[13], line 4\u001b[0m\n\u001b[0;32m      1\u001b[0m \u001b[38;5;66;03m#Nim : 1217070069\u001b[39;00m\n\u001b[0;32m      2\u001b[0m \u001b[38;5;66;03m#Nama : Raviqi Ikhsan Doni\u001b[39;00m\n\u001b[1;32m----> 4\u001b[0m \u001b[38;5;28;01mimport\u001b[39;00m \u001b[38;5;21;01mcv2\u001b[39;00m\n\u001b[0;32m      5\u001b[0m \u001b[38;5;28;01mimport\u001b[39;00m \u001b[38;5;21;01mnumpy\u001b[39;00m \u001b[38;5;28;01mas\u001b[39;00m \u001b[38;5;21;01mnp\u001b[39;00m\n\u001b[0;32m      6\u001b[0m image\u001b[38;5;241m=\u001b[39mcv2\u001b[38;5;241m.\u001b[39mimread(\u001b[38;5;124m'\u001b[39m\u001b[38;5;124mKeyboard.jpg\u001b[39m\u001b[38;5;124m'\u001b[39m)\n",
      "\u001b[1;31mModuleNotFoundError\u001b[0m: No module named 'cv2'"
     ]
    }
   ],
   "source": [
    "#Nim : 1217070069\n",
    "#Nama : Raviqi Ikhsan Doni\n",
    "\n",
    "import cv2\n",
    "import numpy as np\n",
    "image=cv2.imread('Keyboard.jpg')\n",
    "(height, width)= image.shape[0:2]\n",
    "RotasiMatriks=cv2.getRotationMatrix2D((width/2, height/2),-90,0.5)\n",
    "\n",
    "RotasiCitra=cv2.warpAffine(image, RotasiMatriks, (width, height))\n",
    "cv2.imshow('Citra Rotasi', RotasiCitra)\n",
    "cv2.waitKey(0)"
   ]
  },
  {
   "cell_type": "code",
   "execution_count": 14,
   "id": "8d6f77dc",
   "metadata": {},
   "outputs": [
    {
     "ename": "ModuleNotFoundError",
     "evalue": "No module named 'cv2'",
     "output_type": "error",
     "traceback": [
      "\u001b[1;31m---------------------------------------------------------------------------\u001b[0m",
      "\u001b[1;31mModuleNotFoundError\u001b[0m                       Traceback (most recent call last)",
      "Cell \u001b[1;32mIn[14], line 4\u001b[0m\n\u001b[0;32m      1\u001b[0m \u001b[38;5;66;03m#Nim : 1217070069\u001b[39;00m\n\u001b[0;32m      2\u001b[0m \u001b[38;5;66;03m#Nama : Raviqi Ikhsan Doni\u001b[39;00m\n\u001b[1;32m----> 4\u001b[0m \u001b[38;5;28;01mimport\u001b[39;00m \u001b[38;5;21;01mcv2\u001b[39;00m\n\u001b[0;32m      5\u001b[0m \u001b[38;5;28;01mimport\u001b[39;00m \u001b[38;5;21;01mnumpy\u001b[39;00m \u001b[38;5;28;01mas\u001b[39;00m \u001b[38;5;21;01mnp\u001b[39;00m\n\u001b[0;32m      6\u001b[0m image\u001b[38;5;241m=\u001b[39mcv2\u001b[38;5;241m.\u001b[39mimread(\u001b[38;5;124m'\u001b[39m\u001b[38;5;124mKeyboard.jpg\u001b[39m\u001b[38;5;124m'\u001b[39m)\n",
      "\u001b[1;31mModuleNotFoundError\u001b[0m: No module named 'cv2'"
     ]
    }
   ],
   "source": [
    "#Nim : 1217070069\n",
    "#Nama : Raviqi Ikhsan Doni\n",
    "\n",
    "import cv2\n",
    "import numpy as np\n",
    "image=cv2.imread('Keyboard.jpg')\n",
    "\n",
    "flip_hor=cv2.flip(image,1)\n",
    "\n",
    "flip_ver=cv2.flip(image,0)\n",
    "\n",
    "flip_verhor=cv2.flip(image,-1)\n",
    "\n",
    "cv2.imshow('Citra', image)\n",
    "cv2.imshow('Citra Flip Horizontal', flip_hor)\n",
    "cv2.imshow('Citra Flip Vertikal', flip_ver)\n",
    "cv2.imshow('Citra Flip Vertikal-Horizontal', flip_verhor)\n",
    "cv2.waitKey(0)"
   ]
  },
  {
   "cell_type": "code",
   "execution_count": 15,
   "id": "d467a59d",
   "metadata": {},
   "outputs": [
    {
     "ename": "ModuleNotFoundError",
     "evalue": "No module named 'cv2'",
     "output_type": "error",
     "traceback": [
      "\u001b[1;31m---------------------------------------------------------------------------\u001b[0m",
      "\u001b[1;31mModuleNotFoundError\u001b[0m                       Traceback (most recent call last)",
      "Cell \u001b[1;32mIn[15], line 4\u001b[0m\n\u001b[0;32m      1\u001b[0m \u001b[38;5;66;03m#Nim : 1217070069\u001b[39;00m\n\u001b[0;32m      2\u001b[0m \u001b[38;5;66;03m#Nama : Raviqi Ikhsan Doni\u001b[39;00m\n\u001b[1;32m----> 4\u001b[0m \u001b[38;5;28;01mimport\u001b[39;00m \u001b[38;5;21;01mcv2\u001b[39;00m\n\u001b[0;32m      5\u001b[0m image\u001b[38;5;241m=\u001b[39mcv2\u001b[38;5;241m.\u001b[39mimread(\u001b[38;5;124m'\u001b[39m\u001b[38;5;124mKeyboard.jpg\u001b[39m\u001b[38;5;124m'\u001b[39m)\n\u001b[0;32m      7\u001b[0m zoom_factor\u001b[38;5;241m=\u001b[39m\u001b[38;5;241m1.5\u001b[39m\n",
      "\u001b[1;31mModuleNotFoundError\u001b[0m: No module named 'cv2'"
     ]
    }
   ],
   "source": [
    "#Nim : 1217070069\n",
    "#Nama : Raviqi Ikhsan Doni\n",
    "\n",
    "import cv2\n",
    "image=cv2.imread('Keyboard.jpg')\n",
    "\n",
    "zoom_factor=1.5\n",
    "\n",
    "height,width=image.shape[:2]\n",
    "\n",
    "new_height=int(height*zoom_factor)\n",
    "new_width=int(width*zoom_factor)\n",
    "\n",
    "scaled_image=cv2.resize(image,(new_width,new_height),interpolation=cv2.INTER_LINEAR)\n",
    "\n",
    "cv2.imshow('Origunal Image', image)\n",
    "cv2.imshow('Image zooming', scaled_image)\n",
    "cv2.waitKey(0)\n",
    "cv2.destroyAllWinsdows()"
   ]
  },
  {
   "cell_type": "code",
   "execution_count": null,
   "id": "a940e7fe",
   "metadata": {},
   "outputs": [],
   "source": []
  }
 ],
 "metadata": {
  "kernelspec": {
   "display_name": "Python 3 (ipykernel)",
   "language": "python",
   "name": "python3"
  },
  "language_info": {
   "codemirror_mode": {
    "name": "ipython",
    "version": 3
   },
   "file_extension": ".py",
   "mimetype": "text/x-python",
   "name": "python",
   "nbconvert_exporter": "python",
   "pygments_lexer": "ipython3",
   "version": "3.11.7"
  }
 },
 "nbformat": 4,
 "nbformat_minor": 5
}
